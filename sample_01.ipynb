{
 "cells": [
  {
   "cell_type": "code",
   "execution_count": null,
   "id": "dc7772de",
   "metadata": {
    "vscode": {
     "languageId": "plaintext"
    }
   },
   "outputs": [],
   "source": [
    "from PIL import Image\n",
    "from turtle import width\n",
    "import streamlit as st\n",
    "import numpy as np\n",
    "import pandas as pd"
   ]
  },
  {
   "cell_type": "code",
   "execution_count": null,
   "id": "00df23d0",
   "metadata": {
    "vscode": {
     "languageId": "plaintext"
    }
   },
   "outputs": [],
   "source": [
    "st.title(\"Streamlit 超入門\")\n",
    "st.title(\"あcola、シラユキ、つむすと\")"
   ]
  },
  {
   "cell_type": "code",
   "execution_count": null,
   "id": "a3eec01f",
   "metadata": {
    "vscode": {
     "languageId": "plaintext"
    }
   },
   "outputs": [],
   "source": [
    "st.write(\"DataFrame\")\n",
    "df = pd.DataFrame({\n",
    "    \"1列目\": [1, 2, 3, 4],\n",
    "    \"2列目\": [10, 20, 30, 40]\n",
    "})\n",
    "st.write(df)\n",
    "st.dataframe(df.style.highlight_max(axis=0))\n",
    "st.table(df.style.highlight_max(axis=0))"
   ]
  },
  {
   "cell_type": "code",
   "execution_count": null,
   "id": "7e603c32",
   "metadata": {
    "vscode": {
     "languageId": "plaintext"
    }
   },
   "outputs": [],
   "source": [
    "df_2 = pd.DataFrame(\n",
    "    np.random.rand(20, 3),\n",
    "    columns=[\"a\", \"b\", \"c\"]\n",
    ")\n",
    "st.dataframe(df_2)\n",
    "st.line_chart(df_2)\n",
    "st.area_chart(df_2)\n",
    "st.bar_chart(df_2)"
   ]
  },
  {
   "cell_type": "code",
   "execution_count": null,
   "id": "f16debd9",
   "metadata": {
    "vscode": {
     "languageId": "plaintext"
    }
   },
   "outputs": [],
   "source": [
    "df_3 = pd.DataFrame(\n",
    "    np.random.rand(100, 2)/[50, 50] + [35.69, 139.70],\n",
    "    columns=[\"lat\", \"lon\"]\n",
    ")\n",
    "st.dataframe(df_3)\n",
    "st.line_chart(df_3)\n",
    "st.map(df_3)"
   ]
  },
  {
   "cell_type": "code",
   "execution_count": null,
   "id": "b48f628e",
   "metadata": {
    "vscode": {
     "languageId": "plaintext"
    }
   },
   "outputs": [],
   "source": [
    "st.write(\"Display Image\")\n",
    "if st.checkbox(\"Show Image\"):\n",
    "    img = Image.open(\"cats.jpg\")\n",
    "    st.image(img, caption=\"Ten and Rokuta\", use_column_width=True)"
   ]
  },
  {
   "cell_type": "code",
   "execution_count": null,
   "id": "300bd7df",
   "metadata": {
    "vscode": {
     "languageId": "plaintext"
    }
   },
   "outputs": [],
   "source": [
    "option = st.selectbox(\n",
    "    \"あなたが好きな数字を教えてください。\",\n",
    "    list(range(1, 11))\n",
    ")\n",
    "st.write(f\"あなたの好きな数字は、{option}です。\")"
   ]
  },
  {
   "cell_type": "code",
   "execution_count": null,
   "id": "c5c564fe",
   "metadata": {
    "vscode": {
     "languageId": "plaintext"
    }
   },
   "outputs": [],
   "source": [
    "st.sidebar.write(\"Interactive Widgets\")\n",
    "text = st.sidebar.text_input(\"あなたの趣味を教えて下さい。\")\n",
    "condition = st.sidebar.slider(\"あなたの今の調子は？\", 0, 100, 50, 10)\n",
    "st.write(f\"あなたの趣味：{text}\")\n",
    "st.write(f\"コンディション：{condition}\")"
   ]
  },
  {
   "cell_type": "code",
   "execution_count": null,
   "id": "51db4aba",
   "metadata": {
    "vscode": {
     "languageId": "plaintext"
    }
   },
   "outputs": [],
   "source": [
    "left_column, right_column = st.columns(2)\n",
    "button = left_column.button(\"右カラムに文字を表示\")\n",
    "if button:\n",
    "    right_column.write(\"ここは右カラム\")"
   ]
  },
  {
   "cell_type": "code",
   "execution_count": null,
   "id": "b112a4ac",
   "metadata": {
    "vscode": {
     "languageId": "plaintext"
    }
   },
   "outputs": [],
   "source": [
    "expander_1 = st.expander(\"問い合わせ1\")\n",
    "expander_1.write(\"問い合わせ内容を書く\")\n",
    "expander_2 = st.expander(\"問い合わせ2\")\n",
    "expander_2.write(\"問い合わせ内容を書く\")\n",
    "expander_3 = st.expander(\"問い合わせ3\")\n",
    "expander_3.write(\"問い合わせ内容を書く\")"
   ]
  },
  {
   "cell_type": "code",
   "execution_count": null,
   "id": "81502c6e",
   "metadata": {
    "vscode": {
     "languageId": "plaintext"
    }
   },
   "outputs": [],
   "source": [
    "st.write(\"プログレスバーの表示\")\n",
    "latest_iteration = st.empty()\n",
    "bar = st.progress(0)\n",
    "for i in range(100):\n",
    "    latest_iteration.text(f\"Iteration {i + 1}\")\n",
    "    bar.progress(i + 1)\n",
    "    time.sleep(0.1)\n",
    "else:\n",
    "    st.write(\"Done!!!!!\")"
   ]
  },
  {
   "cell_type": "markdown",
   "id": "0a1b357e",
   "metadata": {},
   "source": [
    "# 章\n",
    "## 節\n",
    "### 項\n",
    "\n",
    "```python\n",
    "import streamlit as st\n",
    "import numpy as np\n",
    "import pandas as pd\n",
    "```"
   ]
  }
 ],
 "metadata": {
  "kernelspec": {
   "display_name": "Python 3 (ipykernel)",
   "language": "python",
   "name": "python3"
  },
  "language_info": {
   "codemirror_mode": {
    "name": "ipython",
    "version": 3
   },
   "file_extension": ".py",
   "mimetype": "text/x-python",
   "name": "python",
   "nbconvert_exporter": "python",
   "pygments_lexer": "ipython3",
   "version": "3.10.6"
  }
 },
 "nbformat": 4,
 "nbformat_minor": 5
}
